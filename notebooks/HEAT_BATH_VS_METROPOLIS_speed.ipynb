{
 "cells": [
  {
   "cell_type": "code",
   "execution_count": 1,
   "metadata": {},
   "outputs": [],
   "source": [
    "import matplotlib.pyplot as plt\n",
    "import numpy as np\n",
    "from muca.model.p_body_ising import PBodyTwoDimIsing\n",
    "from muca.algorithm.wang_landau import WangLandau\n",
    "from muca.algorithm.parameters import WangLandauParameters\n",
    "from muca.results.analysis import Analyzer"
   ]
  },
  {
   "cell_type": "code",
   "execution_count": 2,
   "metadata": {},
   "outputs": [],
   "source": [
    "p = 3\n",
    "L = 9\n",
    "S = 2\n",
    "num_trials = 5"
   ]
  },
  {
   "cell_type": "code",
   "execution_count": 3,
   "metadata": {},
   "outputs": [
    {
     "name": "stdout",
     "output_type": "stream",
     "text": [
      "Running Wang-Landau simulation by cpp ...\n",
      "Done simulation (241.7) [sec] by cpp\n",
      "Running Wang-Landau simulation by cpp ...\n",
      "Done simulation (357.3) [sec] by cpp\n",
      "Running Wang-Landau simulation by cpp ...\n",
      "Done simulation (215.5) [sec] by cpp\n",
      "Running Wang-Landau simulation by cpp ...\n",
      "Done simulation (287.1) [sec] by cpp\n",
      "Running Wang-Landau simulation by cpp ...\n",
      "Done simulation (281.6) [sec] by cpp\n"
     ]
    }
   ],
   "source": [
    "result_metropolis_on = []\n",
    "for _ in range(num_trials):\n",
    "    result_metropolis_on.append(\n",
    "        WangLandau.run(\n",
    "            model=PBodyTwoDimIsing(J=-1, p=p, Lx=L, Ly=L, spin=S, spin_scale_factor=1/S),\n",
    "            parameters=WangLandauParameters(\n",
    "                modification_criterion=1e-08,\n",
    "                convergence_check_interval=100,\n",
    "                num_divided_energy_range=1,\n",
    "                overlap_rate = 0.4,\n",
    "                flatness_criterion = 0.9,\n",
    "                update_method=\"METROPOLIS\",\n",
    "            ),\n",
    "            num_threads=1,\n",
    "            calculate_order_parameters=True,\n",
    "            backend = \"cpp\"\n",
    "        )\n",
    "    )"
   ]
  },
  {
   "cell_type": "code",
   "execution_count": 4,
   "metadata": {},
   "outputs": [
    {
     "name": "stdout",
     "output_type": "stream",
     "text": [
      "Running Wang-Landau simulation by cpp ...\n",
      "Done simulation (118.0) [sec] by cpp\n",
      "Running Wang-Landau simulation by cpp ...\n",
      "Done simulation (129.5) [sec] by cpp\n",
      "Running Wang-Landau simulation by cpp ...\n",
      "Done simulation (135.5) [sec] by cpp\n",
      "Running Wang-Landau simulation by cpp ...\n",
      "Done simulation (107.7) [sec] by cpp\n",
      "Running Wang-Landau simulation by cpp ...\n",
      "Done simulation (90.0) [sec] by cpp\n"
     ]
    }
   ],
   "source": [
    "result_metropolis_off = []\n",
    "for _ in range(num_trials):\n",
    "    result_metropolis_off.append(\n",
    "        WangLandau.run(\n",
    "            model=PBodyTwoDimIsing(J=-1, p=p, Lx=L, Ly=L, spin=S, spin_scale_factor=1/S),\n",
    "            parameters=WangLandauParameters(\n",
    "                modification_criterion=1e-08,\n",
    "                convergence_check_interval=100,\n",
    "                num_divided_energy_range=1,\n",
    "                overlap_rate = 0.4,\n",
    "                flatness_criterion = 0.9,\n",
    "                update_method=\"METROPOLIS\",\n",
    "            ),\n",
    "            num_threads=1,\n",
    "            calculate_order_parameters=False,\n",
    "            backend = \"cpp\"\n",
    "        )\n",
    "    )"
   ]
  },
  {
   "cell_type": "code",
   "execution_count": 5,
   "metadata": {},
   "outputs": [
    {
     "name": "stdout",
     "output_type": "stream",
     "text": [
      "Running Wang-Landau simulation by cpp ...\n",
      "Done simulation (250.5) [sec] by cpp\n",
      "Running Wang-Landau simulation by cpp ...\n",
      "Done simulation (189.7) [sec] by cpp\n"
     ]
    },
    {
     "ename": "",
     "evalue": "",
     "output_type": "error",
     "traceback": [
      "\u001b[1;31mThe Kernel crashed while executing code in the the current cell or a previous cell. Please review the code in the cell(s) to identify a possible cause of the failure. Click <a href='https://aka.ms/vscodeJupyterKernelCrash'>here</a> for more info. View Jupyter <a href='command:jupyter.viewOutput'>log</a> for further details."
     ]
    }
   ],
   "source": [
    "result_heat_on = []\n",
    "for _ in range(num_trials):\n",
    "    result_heat_on.append(\n",
    "        WangLandau.run(\n",
    "            model=PBodyTwoDimIsing(J=-1, p=p, Lx=L, Ly=L, spin=S, spin_scale_factor=1/S),\n",
    "            parameters=WangLandauParameters(\n",
    "                modification_criterion=1e-08,\n",
    "                convergence_check_interval=100,\n",
    "                num_divided_energy_range=1,\n",
    "                overlap_rate = 0.4,\n",
    "                flatness_criterion = 0.9,\n",
    "                update_method=\"HEAT_BATH\",\n",
    "            ),\n",
    "            num_threads=1,\n",
    "            calculate_order_parameters=True,\n",
    "            backend = \"cpp\"\n",
    "        )\n",
    "    )"
   ]
  },
  {
   "cell_type": "code",
   "execution_count": null,
   "metadata": {},
   "outputs": [],
   "source": [
    "result_heat_off = []\n",
    "for _ in range(num_trials):\n",
    "    result_heat_on.append(\n",
    "        WangLandau.run(\n",
    "            model=PBodyTwoDimIsing(J=-1, p=p, Lx=L, Ly=L, spin=S, spin_scale_factor=1/S),\n",
    "            parameters=WangLandauParameters(\n",
    "                modification_criterion=1e-08,\n",
    "                convergence_check_interval=100,\n",
    "                num_divided_energy_range=1,\n",
    "                overlap_rate = 0.4,\n",
    "                flatness_criterion = 0.9,\n",
    "                update_method=\"HEAT_BATH\",\n",
    "            ),\n",
    "            num_threads=1,\n",
    "            calculate_order_parameters=False,\n",
    "            backend = \"cpp\"\n",
    "        )\n",
    "    )"
   ]
  },
  {
   "cell_type": "code",
   "execution_count": null,
   "metadata": {},
   "outputs": [
    {
     "data": {
      "text/plain": [
       "Text(0, 0.5, 'Time [s]')"
      ]
     },
     "execution_count": 5,
     "metadata": {},
     "output_type": "execute_result"
    },
    {
     "data": {
      "image/png": "[encoded data removed]",
      "text/plain": [
       "<Figure size 640x480 with 1 Axes>"
      ]
     },
     "metadata": {},
     "output_type": "display_data"
    }
   ],
   "source": [
    "plt.title(f\"S={S},p={p},L={L}\")\n",
    "plt.bar(\n",
    "    [\"METROPOLIS_ON\", \"HEAT_BATH_ON\", \"METROPOLIS_OFF\", \"HEAT_BATH_OFF\"],\n",
    "    [\n",
    "        np.mean([r.info[\"total_time\"] for r in result_metropolis_on]), \n",
    "        np.mean([r.info[\"total_time\"] for r in result_heat_on]),\n",
    "        np.mean([r.info[\"total_time\"] for r in result_metropolis_off]),\n",
    "        np.mean([r.info[\"total_time\"] for r in result_heat_off])\n",
    "    ],\n",
    "    yerr=[\n",
    "        np.std([r.info[\"total_time\"] for r in result_metropolis_on]), \n",
    "        np.std([r.info[\"total_time\"] for r in result_heat_on]),\n",
    "        np.std([r.info[\"total_time\"] for r in result_metropolis_off]),\n",
    "        np.std([r.info[\"total_time\"] for r in result_heat_off])\n",
    "    ]\n",
    ")\n",
    "plt.ylabel(\"Time [s]\")"
   ]
  },
  {
   "cell_type": "code",
   "execution_count": null,
   "metadata": {},
   "outputs": [],
   "source": []
  }
 ],
 "metadata": {
  "kernelspec": {
   "display_name": ".venv",
   "language": "python",
   "name": "python3"
  },
  "language_info": {
   "codemirror_mode": {
    "name": "ipython",
    "version": 3
   },
   "file_extension": ".py",
   "mimetype": "text/x-python",
   "name": "python",
   "nbconvert_exporter": "python",
   "pygments_lexer": "ipython3",
   "version": "3.11.9"
  }
 },
 "nbformat": 4,
 "nbformat_minor": 2
}
