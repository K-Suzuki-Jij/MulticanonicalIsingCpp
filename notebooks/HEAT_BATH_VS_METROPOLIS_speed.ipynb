{
 "cells": [
  {
   "cell_type": "code",
   "execution_count": 1,
   "metadata": {},
   "outputs": [],
   "source": [
    "import matplotlib.pyplot as plt\n",
    "import numpy as np\n",
    "from muca.model.p_body_ising import PBodyTwoDimIsing\n",
    "from muca.algorithm.wang_landau import WangLandau\n",
    "from muca.algorithm.parameters import WangLandauParameters\n",
    "from muca.results.analysis import Analyzer"
   ]
  },
  {
   "cell_type": "code",
   "execution_count": 2,
   "metadata": {},
   "outputs": [],
   "source": [
    "p = 3\n",
    "L = 9\n",
    "S = 2\n",
    "num_trials = 5"
   ]
  },
  {
   "cell_type": "code",
   "execution_count": 3,
   "metadata": {},
   "outputs": [
    {
     "name": "stdout",
     "output_type": "stream",
     "text": [
      "Running Wang-Landau simulation by cpp ...\n",
      "Done simulation (360.4) [sec] by cpp\n",
      "Running Wang-Landau simulation by cpp ...\n",
      "Done simulation (219.6) [sec] by cpp\n",
      "Running Wang-Landau simulation by cpp ...\n",
      "Done simulation (270.1) [sec] by cpp\n",
      "Running Wang-Landau simulation by cpp ...\n",
      "Done simulation (205.2) [sec] by cpp\n",
      "Running Wang-Landau simulation by cpp ...\n",
      "Done simulation (417.5) [sec] by cpp\n"
     ]
    }
   ],
   "source": [
    "result_metropolis_on = []\n",
    "for _ in range(num_trials):\n",
    "    result_metropolis_on.append(\n",
    "        WangLandau.run(\n",
    "            model=PBodyTwoDimIsing(J=-1, p=p, Lx=L, Ly=L, spin=S, spin_scale_factor=1/S),\n",
    "            parameters=WangLandauParameters(\n",
    "                modification_criterion=1e-08,\n",
    "                convergence_check_interval=100,\n",
    "                num_divided_energy_range=1,\n",
    "                overlap_rate = 0.4,\n",
    "                flatness_criterion = 0.9,\n",
    "                update_method=\"METROPOLIS\",\n",
    "            ),\n",
    "            num_threads=1,\n",
    "            calculate_order_parameters=True,\n",
    "            backend = \"cpp\"\n",
    "        )\n",
    "    )"
   ]
  },
  {
   "cell_type": "code",
   "execution_count": 4,
   "metadata": {},
   "outputs": [
    {
     "name": "stdout",
     "output_type": "stream",
     "text": [
      "Running Wang-Landau simulation by cpp ...\n",
      "Done simulation (85.1) [sec] by cpp\n",
      "Running Wang-Landau simulation by cpp ...\n",
      "Done simulation (143.1) [sec] by cpp\n",
      "Running Wang-Landau simulation by cpp ...\n",
      "Done simulation (106.6) [sec] by cpp\n",
      "Running Wang-Landau simulation by cpp ...\n",
      "Done simulation (111.1) [sec] by cpp\n",
      "Running Wang-Landau simulation by cpp ...\n",
      "Done simulation (89.1) [sec] by cpp\n"
     ]
    }
   ],
   "source": [
    "result_metropolis_off = []\n",
    "for _ in range(num_trials):\n",
    "    result_metropolis_off.append(\n",
    "        WangLandau.run(\n",
    "            model=PBodyTwoDimIsing(J=-1, p=p, Lx=L, Ly=L, spin=S, spin_scale_factor=1/S),\n",
    "            parameters=WangLandauParameters(\n",
    "                modification_criterion=1e-08,\n",
    "                convergence_check_interval=100,\n",
    "                num_divided_energy_range=1,\n",
    "                overlap_rate = 0.4,\n",
    "                flatness_criterion = 0.9,\n",
    "                update_method=\"METROPOLIS\",\n",
    "            ),\n",
    "            num_threads=1,\n",
    "            calculate_order_parameters=False,\n",
    "            backend = \"cpp\"\n",
    "        )\n",
    "    )"
   ]
  },
  {
   "cell_type": "code",
   "execution_count": 5,
   "metadata": {},
   "outputs": [
    {
     "name": "stdout",
     "output_type": "stream",
     "text": [
      "Running Wang-Landau simulation by cpp ...\n",
      "Done simulation (165.9) [sec] by cpp\n",
      "Running Wang-Landau simulation by cpp ...\n",
      "Done simulation (176.9) [sec] by cpp\n",
      "Running Wang-Landau simulation by cpp ...\n",
      "Done simulation (152.0) [sec] by cpp\n",
      "Running Wang-Landau simulation by cpp ...\n",
      "Done simulation (236.9) [sec] by cpp\n",
      "Running Wang-Landau simulation by cpp ...\n",
      "Done simulation (260.9) [sec] by cpp\n"
     ]
    }
   ],
   "source": [
    "result_heat_on = []\n",
    "for _ in range(num_trials):\n",
    "    result_heat_on.append(\n",
    "        WangLandau.run(\n",
    "            model=PBodyTwoDimIsing(J=-1, p=p, Lx=L, Ly=L, spin=S, spin_scale_factor=1/S),\n",
    "            parameters=WangLandauParameters(\n",
    "                modification_criterion=1e-08,\n",
    "                convergence_check_interval=100,\n",
    "                num_divided_energy_range=1,\n",
    "                overlap_rate = 0.4,\n",
    "                flatness_criterion = 0.9,\n",
    "                update_method=\"HEAT_BATH\",\n",
    "            ),\n",
    "            num_threads=1,\n",
    "            calculate_order_parameters=True,\n",
    "            backend = \"cpp\"\n",
    "        )\n",
    "    )"
   ]
  },
  {
   "cell_type": "code",
   "execution_count": 6,
   "metadata": {},
   "outputs": [
    {
     "name": "stdout",
     "output_type": "stream",
     "text": [
      "Running Wang-Landau simulation by cpp ...\n",
      "Done simulation (143.6) [sec] by cpp\n",
      "Running Wang-Landau simulation by cpp ...\n",
      "Done simulation (114.7) [sec] by cpp\n",
      "Running Wang-Landau simulation by cpp ...\n",
      "Done simulation (150.6) [sec] by cpp\n",
      "Running Wang-Landau simulation by cpp ...\n",
      "Done simulation (115.0) [sec] by cpp\n",
      "Running Wang-Landau simulation by cpp ...\n",
      "Done simulation (120.1) [sec] by cpp\n"
     ]
    }
   ],
   "source": [
    "result_heat_off = []\n",
    "for _ in range(num_trials):\n",
    "    result_heat_off.append(\n",
    "        WangLandau.run(\n",
    "            model=PBodyTwoDimIsing(J=-1, p=p, Lx=L, Ly=L, spin=S, spin_scale_factor=1/S),\n",
    "            parameters=WangLandauParameters(\n",
    "                modification_criterion=1e-08,\n",
    "                convergence_check_interval=100,\n",
    "                num_divided_energy_range=1,\n",
    "                overlap_rate = 0.4,\n",
    "                flatness_criterion = 0.9,\n",
    "                update_method=\"HEAT_BATH\",\n",
    "            ),\n",
    "            num_threads=1,\n",
    "            calculate_order_parameters=False,\n",
    "            backend = \"cpp\"\n",
    "        )\n",
    "    )"
   ]
  },
  {
   "cell_type": "code",
   "execution_count": 7,
   "metadata": {},
   "outputs": [
    {
     "data": {
      "text/plain": [
       "Text(0, 0.5, 'Time [s]')"
      ]
     },
     "execution_count": 7,
     "metadata": {},
     "output_type": "execute_result"
    },
    {
     "data": {
      "image/png": "[encoded data removed]",
      "text/plain": [
       "<Figure size 640x480 with 1 Axes>"
      ]
     },
     "metadata": {},
     "output_type": "display_data"
    }
   ],
   "source": [
    "plt.title(f\"Time for S={S},p={p},L={L}\")\n",
    "plt.bar(\n",
    "    [\n",
    "    #    \"METROPOLIS_ON\", \n",
    "    #    \"HEAT_BATH_ON\", \n",
    "        \"METROPOLIS_OFF\", \n",
    "        \"HEAT_BATH_OFF\"\n",
    "    ],\n",
    "    [\n",
    "    #    np.mean([r.info[\"total_time\"] for r in result_metropolis_on]), \n",
    "    #    np.mean([r.info[\"total_time\"] for r in result_heat_on]),\n",
    "        np.mean([r.info[\"total_time\"] for r in result_metropolis_off]),\n",
    "        np.mean([r.info[\"total_time\"] for r in result_heat_off])\n",
    "    ],\n",
    "    yerr=[\n",
    "    #    np.std([r.info[\"total_time\"] for r in result_metropolis_on]), \n",
    "    #    np.std([r.info[\"total_time\"] for r in result_heat_on]),\n",
    "        np.std([r.info[\"total_time\"] for r in result_metropolis_off]),\n",
    "        np.std([r.info[\"total_time\"] for r in result_heat_off])\n",
    "    ]\n",
    ")\n",
    "plt.ylabel(\"Time [s]\")"
   ]
  },
  {
   "cell_type": "code",
   "execution_count": 8,
   "metadata": {},
   "outputs": [
    {
     "data": {
      "text/plain": [
       "Text(0, 0.5, 'Sweeps')"
      ]
     },
     "execution_count": 8,
     "metadata": {},
     "output_type": "execute_result"
    },
    {
     "data": {
      "image/png": "[encoded data removed]",
      "text/plain": [
       "<Figure size 640x480 with 1 Axes>"
      ]
     },
     "metadata": {},
     "output_type": "display_data"
    }
   ],
   "source": [
    "plt.title(f\"Sweeps for S={S},p={p},L={L}\")\n",
    "plt.bar(\n",
    "    [\n",
    "    #    \"METROPOLIS_ON\", \n",
    "    #    \"HEAT_BATH_ON\", \n",
    "        \"METROPOLIS_OFF\", \n",
    "        \"HEAT_BATH_OFF\"\n",
    "    ],\n",
    "    [\n",
    "    #    np.mean([r.total_sweeps for r in result_metropolis_on]), \n",
    "    #    np.mean([r.total_sweeps for r in result_heat_on]),\n",
    "        np.mean([r.total_sweeps for r in result_metropolis_off]),\n",
    "        np.mean([r.total_sweeps for r in result_heat_off])\n",
    "    ],\n",
    "    yerr=[\n",
    "    #    np.std([r.total_sweeps for r in result_metropolis_on]), \n",
    "    #    np.std([r.total_sweeps for r in result_heat_on]),\n",
    "        np.std([r.total_sweeps for r in result_metropolis_off]),\n",
    "        np.std([r.total_sweeps for r in result_heat_off])\n",
    "    ]\n",
    ")\n",
    "plt.ylabel(\"Sweeps\")"
   ]
  },
  {
   "cell_type": "code",
   "execution_count": null,
   "metadata": {},
   "outputs": [],
   "source": []
  }
 ],
 "metadata": {
  "kernelspec": {
   "display_name": ".venv",
   "language": "python",
   "name": "python3"
  },
  "language_info": {
   "codemirror_mode": {
    "name": "ipython",
    "version": 3
   },
   "file_extension": ".py",
   "mimetype": "text/x-python",
   "name": "python",
   "nbconvert_exporter": "python",
   "pygments_lexer": "ipython3",
   "version": "3.11.9"
  }
 },
 "nbformat": 4,
 "nbformat_minor": 2
}
